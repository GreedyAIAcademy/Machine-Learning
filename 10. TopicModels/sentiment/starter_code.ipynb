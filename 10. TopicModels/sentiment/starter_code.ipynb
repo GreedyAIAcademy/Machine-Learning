{
 "cells": [
  {
   "cell_type": "markdown",
   "metadata": {},
   "source": [
    "## 情感分析项目"
   ]
  },
  {
   "cell_type": "markdown",
   "metadata": {},
   "source": [
    "情感分析是文本处理领域经典的问题。整个系统一般会包括几个模块：\n",
    "- 数据的抓取： 通过爬虫的技术去网络抓取相关文本数据\n",
    "- 数据的清洗/预处理：在本文中一般需要去掉无用的信息，比如各种标签（HTML标签），标点符号，停用词等等\n",
    "- 把文本信息转换成向量： 这也成为特征工程，文本本身是不能作为模型的输入，只有数字（比如向量）才能成为模型的输入。所以进入模型之前，任何的信号都需要转换成模型可识别的数字信号（数字，向量，矩阵，张量...)\n",
    "- 选择合适的模型以及合适的评估方法。 对于情感分析来说，这是二分类问题（或者三分类：正面，负面，中性），所以需要采用分类算法比如逻辑回归，朴素贝叶斯，神经网络，SVM等等。另外，我们需要选择合适的评估方法，比如对于一个应用，我们是关注准确率呢，还是关注召回率呢？ "
   ]
  },
  {
   "cell_type": "markdown",
   "metadata": {},
   "source": [
    "在本次项目中，我们已经给定了训练数据和测试数据，它们分别是 train.positive.txt, train.negative.txt， test_combined.txt. 请注意训练数据和测试数据的格式不一样，详情请见文件内容。 整个项目你需要完成以下步骤：\n",
    "\n",
    "数据的读取以及清洗： 从给定的.txt中读取内容，并做一些数据清洗，这里需要做几个工作： （1） 文本的读取，需要把字符串内容读进来。 （2）去掉无用的字符比如标点符号，多余的空格，换行符等 （3） 分词\n",
    "把文本转换成TF-IDF向量： 这部分直接可以利用sklearn提供的TfidfVectorizer类来做。\n",
    "利用逻辑回归模型来做分类，并通过交叉验证选择最合适的超参数\n",
    "利用支持向量机做分类，并通过交叉验证选择神经网络的合适的参数"
   ]
  },
  {
   "cell_type": "code",
   "execution_count": 1,
   "metadata": {},
   "outputs": [],
   "source": [
    "import jieba\n",
    "import gc\n",
    "import numpy as np\n",
    "import random\n",
    "import re\n",
    "import matplotlib.pyplot as plt\n",
    "import warnings\n",
    "warnings.filterwarnings(\"ignore\")"
   ]
  },
  {
   "cell_type": "markdown",
   "metadata": {},
   "source": [
    "### File Reading: 文本读取"
   ]
  },
  {
   "cell_type": "code",
   "execution_count": 2,
   "metadata": {},
   "outputs": [],
   "source": [
    "def process_file():\n",
    "    \"\"\"\n",
    "    读取训练数据和测试数据，并对它们做一些预处理\n",
    "    \"\"\"    \n",
    "    train_pos_file = \"data/train.positive.txt\"\n",
    "    train_neg_file = \"data/train.negative.txt\"\n",
    "    test_comb_file = \"data/test.combined.txt\"       \n",
    "    \n",
    "    # TODO: 读取文件部分，把具体的内容写入到变量里面\n",
    "    with open(train_pos_file, 'r', encoding='utf-8') as file:\n",
    "        pos_lines = file.read()\n",
    "        file.close()\n",
    "    pos_lines = [line.split('\\n\\n')[1:] for line in  pos_lines.split('\\n\\n</review>\\n') \n",
    "                 if len(line.split('\\n\\n'))>=2]\n",
    "    pos_lines = [(k, v) for k, v in enumerate(pos_lines)]\n",
    "    train_labels = {i: 1 for i in range(len(pos_lines))}\n",
    "\n",
    "    with open(train_neg_file, 'r', encoding='utf-8') as file:\n",
    "        neg_lines = file.read()\n",
    "        file.close()\n",
    "\n",
    "    neg_lines = [line.split('\\n\\n')[1:] for line in  neg_lines.split('\\n\\n</review>\\n') \n",
    "                 if len(line.split('\\n\\n'))>=2]   \n",
    "    neg_lines = [(k+5000, v) for k, v in enumerate(neg_lines)]\n",
    "    for i in range(len(neg_lines)):\n",
    "        train_labels[i+5000] = 0\n",
    "\n",
    "    train_comments = pos_lines + neg_lines\n",
    "    del pos_lines, neg_lines\n",
    "    random.shuffle(train_comments)\n",
    "    \n",
    "    def extract_label(s):\n",
    "        label = re.findall(r'label=\"(.+?)\"', s)[0]\n",
    "        return int(label)\n",
    "\n",
    "    with open(test_comb_file, 'r', encoding='utf-8') as file:\n",
    "        test_comments = file.read()\n",
    "        file.close()\n",
    "\n",
    "    test_comments = [line.lstrip().split('\\n') for line in  test_comments.split('\\n</review>') \n",
    "                       if len(line.lstrip().split('\\n'))>1]\n",
    "\n",
    "    test_labels = {k: extract_label(v[0]) for k, v in enumerate(test_comments)}\n",
    "    test_comments = [(k, v[1:]) for k, v in enumerate(test_comments)]\n",
    "    \n",
    "    train_comments = {i[0]: i[1] for i in train_comments}\n",
    "    test_comments = {i[0]: i[1] for i in test_comments}\n",
    "    \n",
    "    assert len(train_labels) == len(train_comments)\n",
    "    assert len(test_labels) == len(test_comments)\n",
    "    \n",
    "    return train_comments, train_labels, test_comments, test_labels\n",
    "\n",
    "\n",
    "train_comments, train_labels, test_comments, test_labels = process_file()"
   ]
  },
  {
   "cell_type": "markdown",
   "metadata": {},
   "source": [
    "### Explorary Analysis: 做一些简单的可视化分析 "
   ]
  },
  {
   "cell_type": "code",
   "execution_count": 3,
   "metadata": {},
   "outputs": [
    {
     "name": "stdout",
     "output_type": "stream",
     "text": [
      "8065 2500\n"
     ]
    }
   ],
   "source": [
    "# 训练数据和测试数据大小\n",
    "print(len(train_comments), len(test_comments))"
   ]
  },
  {
   "cell_type": "code",
   "execution_count": 4,
   "metadata": {},
   "outputs": [
    {
     "name": "stderr",
     "output_type": "stream",
     "text": [
      "Building prefix dict from the default dictionary ...\n",
      "Loading model from cache /var/folders/pr/0fhkrt7s4cj8yygh6m87_1fw0000gn/T/jieba.cache\n",
      "Loading model cost 0.739 seconds.\n",
      "Prefix dict has been built succesfully.\n"
     ]
    }
   ],
   "source": [
    "# TODO: 对于训练数据中的正负样本，分别画出一个histogram， histogram的x抽是每一个样本中字符串的长度，y轴是拥有这个长度的样本的百分比。\n",
    "#       并说出样本长度是否对情感有相关性 (需要先用到结巴分词)\n",
    "#       参考：https://en.wikipedia.org/wiki/Histogram\n",
    "def segment(train_comments):\n",
    "    # 分词\n",
    "    train_comments_segd = {}\n",
    "    for item in train_comments:\n",
    "        segd_lst = []\n",
    "        for sub_item in train_comments[item]:\n",
    "            segd_lst += [i for i in jieba.cut(sub_item)]\n",
    "        train_comments_segd[item] = segd_lst\n",
    "        \n",
    "    return train_comments_segd\n",
    "\n",
    "train_comments_segd = segment(train_comments)\n",
    "test_comments_segd = segment(test_comments)\n",
    "\n",
    "def percent_for_neg_pos():\n",
    "    # 计算正负样本中不同长度占的百分比\n",
    "    neg_len = []\n",
    "    pos_len = []\n",
    "    for i in train_comments_segd:\n",
    "        if train_labels[i] == 1:\n",
    "            pos_len.append(len(train_comments_segd[i]))\n",
    "        elif train_labels[i] == 0:\n",
    "            neg_len.append(len(train_comments_segd[i]))\n",
    "\n",
    "    def compute_percent(lst):\n",
    "        len_dct = {}\n",
    "        for i in lst:\n",
    "            if i not in len_dct:\n",
    "                len_dct[i] = 1\n",
    "            else:\n",
    "                len_dct[i] += 1\n",
    "        percent = {i: round((len_dct[i] / len(lst)) * 100, 3) for i in len_dct}\n",
    "        return percent\n",
    "    \n",
    "    pos_len_percent = compute_percent(pos_len)\n",
    "    neg_len_percent = compute_percent(neg_len)\n",
    "    \n",
    "    return pos_len_percent, neg_len_percent\n",
    "\n",
    "def plot_hist(percent, num, color, ylabel):\n",
    "    x = [i for i in percent]\n",
    "    y = [v for i, v in percent.items()]\n",
    "#     plt.figure(figsize=(4, 3))\n",
    "    plt.bar(x[:num], y[:num], color=color)\n",
    "    plt.xlabel('length')\n",
    "    plt.ylabel(ylabel)\n",
    "    plt.show()\n",
    "\n",
    "def plot_sorted_len(pos_len_srt, num, color, ylabel):\n",
    "    pos_len_srt = sorted(pos_len_percent.items(), key=lambda x: x[0], reverse=False)\n",
    "    plt.bar([i[0] for i in pos_len_srt[:num]], [i[1] for i in pos_len_srt[:num]], color=color)\n",
    "    plt.xlabel('length')\n",
    "    plt.ylabel(ylabel)\n",
    "    plt.show()"
   ]
  },
  {
   "cell_type": "code",
   "execution_count": 5,
   "metadata": {},
   "outputs": [
    {
     "data": {
      "image/png": "[encoded data removed]",
      "text/plain": [
       "<Figure size 432x288 with 1 Axes>"
      ]
     },
     "metadata": {
      "needs_background": "light"
     },
     "output_type": "display_data"
    }
   ],
   "source": [
    "pos_len_percent, neg_len_percent = percent_for_neg_pos()\n",
    "plot_hist(pos_len_percent, len(pos_len_percent), color='red', ylabel='positive_len_percent')"
   ]
  },
  {
   "cell_type": "code",
   "execution_count": 6,
   "metadata": {},
   "outputs": [
    {
     "data": {
      "image/png": "[encoded data removed]",
      "text/plain": [
       "<Figure size 432x288 with 1 Axes>"
      ]
     },
     "metadata": {
      "needs_background": "light"
     },
     "output_type": "display_data"
    }
   ],
   "source": [
    "plot_hist(neg_len_percent, len(neg_len_percent), color='blue', ylabel='negtive_len_percent')"
   ]
  },
  {
   "cell_type": "code",
   "execution_count": 7,
   "metadata": {},
   "outputs": [
    {
     "data": {
      "image/png": "[encoded data removed]",
      "text/plain": [
       "<Figure size 432x288 with 1 Axes>"
      ]
     },
     "metadata": {
      "needs_background": "light"
     },
     "output_type": "display_data"
    }
   ],
   "source": [
    "plot_hist(pos_len_percent, 50, color='red', ylabel='positive_len_percent')"
   ]
  },
  {
   "cell_type": "code",
   "execution_count": 8,
   "metadata": {},
   "outputs": [
    {
     "data": {
      "image/png": "[encoded data removed]",
      "text/plain": [
       "<Figure size 432x288 with 1 Axes>"
      ]
     },
     "metadata": {
      "needs_background": "light"
     },
     "output_type": "display_data"
    }
   ],
   "source": [
    "plot_hist(neg_len_percent, 50, color='blue', ylabel='negtive_len_percent')"
   ]
  },
  {
   "cell_type": "code",
   "execution_count": 9,
   "metadata": {},
   "outputs": [
    {
     "data": {
      "image/png": "[encoded data removed]",
      "text/plain": [
       "<Figure size 432x288 with 1 Axes>"
      ]
     },
     "metadata": {
      "needs_background": "light"
     },
     "output_type": "display_data"
    }
   ],
   "source": [
    "plot_sorted_len(pos_len_percent, 100, 'red', 'positive_len_percent')"
   ]
  },
  {
   "cell_type": "code",
   "execution_count": 10,
   "metadata": {},
   "outputs": [
    {
     "data": {
      "image/png": "[encoded data removed]",
      "text/plain": [
       "<Figure size 432x288 with 1 Axes>"
      ]
     },
     "metadata": {
      "needs_background": "light"
     },
     "output_type": "display_data"
    }
   ],
   "source": [
    "plot_sorted_len(pos_len_percent, 100, 'blue', 'negtive_len_percent')"
   ]
  },
  {
   "cell_type": "code",
   "execution_count": 12,
   "metadata": {},
   "outputs": [],
   "source": [
    "# TODO：对于train_comments, test_comments进行字符串的处理，几个考虑的点：\n",
    "#   1. 停用词过滤\n",
    "\n",
    "\n",
    "#   2. 去掉特殊符号\n",
    "sp_sgn = ['^',  '◎', '「', '_', 'o', '∩', '★', '＂', '$', '`', '∩', 'ó',\n",
    "          '０', '１', '..', '%', '〈', '〈', '\\\\', '|', '`', '￥', 'Ⅵ', 'Ｔ', 'Ｄ',\n",
    "          '↘', '\\u3000', '︿', '{', '︶']\n",
    "def remove_special_sign(comments_segd, sp_sgn):\n",
    "    for i in comments_segd:\n",
    "        for j in comments_segd[i]:\n",
    "            if j in sp_sgn:\n",
    "                comments_segd[i].remove(j)\n",
    "    return comments_segd\n",
    "\n",
    "train_comments_segd = remove_special_sign(train_comments_segd, sp_sgn)\n",
    "test_comments_segd = remove_special_sign(test_comments_segd, sp_sgn)\n",
    "\n",
    "\n",
    "#   3. 去掉数字（比如价格..) 及一些英文单词 \n",
    "\n",
    "def remove_num_englishletter(comments_segd):\n",
    "    for i in list(comments_segd.keys()):\n",
    "        for j in comments_segd[i]:\n",
    "            if (len(re.findall('[0-9a-zA-Z]', j)) != 0) or (len(re.findall('[.+]', j)) != 0):\n",
    "                comments_segd[i].remove(j)\n",
    "    return comments_segd\n",
    "\n",
    "# 4 去掉长度为零的情况\n",
    "def remove_zero_len(comments_segd):\n",
    "    zero_lens = {}\n",
    "    for i in list(comments_segd.keys()):\n",
    "        if len(comments_segd[i]) == 0:\n",
    "            comments_segd.pop(i)\n",
    "    return comments_segd\n",
    "\n",
    "train_comments_segd = remove_num_englishletter(train_comments_segd)\n",
    "test_comments_segd = remove_num_englishletter(test_comments_segd)\n",
    "\n",
    "train_comments_new = remove_zero_len(train_comments_segd)\n",
    "test_comments_new = remove_zero_len(test_comments_segd)"
   ]
  },
  {
   "cell_type": "code",
   "execution_count": 13,
   "metadata": {},
   "outputs": [
    {
     "data": {
      "text/plain": [
       "20001"
      ]
     },
     "execution_count": 13,
     "metadata": {},
     "output_type": "execute_result"
    }
   ],
   "source": [
    "del train_comments_segd, test_comments_segd\n",
    "gc.collect()"
   ]
  },
  {
   "cell_type": "markdown",
   "metadata": {},
   "source": [
    "### Feature Extraction : 从文本中提取特征 "
   ]
  },
  {
   "cell_type": "code",
   "execution_count": 14,
   "metadata": {
    "scrolled": true
   },
   "outputs": [
    {
     "name": "stdout",
     "output_type": "stream",
     "text": [
      "(8061, 23383) (2497, 23383) (8061,) (2497,)\n"
     ]
    }
   ],
   "source": [
    "# TODO: 利用tf-idf从文本中提取特征,写到数组里面. \n",
    "#       参考：https://scikit-learn.org/stable/modules/generated/sklearn.feature_extraction.text.TfidfVectorizer.html\n",
    "from sklearn.feature_extraction.text import TfidfVectorizer\n",
    "\n",
    "X_train_snt = []\n",
    "y_train = []\n",
    "for i in list(train_comments_new.keys()):\n",
    "    X_train_snt.append(' '.join(train_comments_new[i]))\n",
    "    y_train.append(train_labels[i])\n",
    "    \n",
    "X_test_snt = []\n",
    "y_test = []\n",
    "for j in list(test_comments_new.keys()):\n",
    "    X_test_snt.append(' '.join(test_comments_new[j]))\n",
    "    y_test.append(test_labels[j]) \n",
    "    \n",
    "del train_comments_new, test_comments_new, train_labels, test_labels\n",
    "gc.collect()\n",
    "\n",
    "# 利用tf-idf从文本中提取特征\n",
    "vectorizer = TfidfVectorizer()\n",
    "X_train = vectorizer.fit_transform(X_train_snt)\n",
    "X_test = vectorizer.transform(X_test_snt)\n",
    "\n",
    "print(np.shape(X_train), np.shape(X_test), np.shape(y_train), np.shape(y_test))"
   ]
  },
  {
   "cell_type": "code",
   "execution_count": null,
   "metadata": {},
   "outputs": [],
   "source": [
    "from sklearn.decomposition import LatentDirichletAllocation\n",
    "model = LatentDirichletAllocation(10)\n",
    "train_X_lda = model.fit_transform(X_train)\n",
    "test_X_lda = model.transform(X_test)\n",
    "print (X_train.shape, train_X_lda.shape)\n",
    "\n",
    "X_train_new = hstack((X_train, train_X_lda))\n",
    "X_test_new = hstack((X_test, test_X_lda))\n",
    "#print (train_X_lda.shape, test_X_lda.shape)"
   ]
  },
  {
   "cell_type": "code",
   "execution_count": null,
   "metadata": {},
   "outputs": [],
   "source": [
    "from scipy.sparse import hstack\n",
    "\n",
    "print (X_train.shape, train_X_lda.shape)\n",
    "X_train = hstack((X_train, train_X_lda))\n",
    "X_test = hstack((X_test, test_X_lda))\n",
    "\n",
    "print (X_train.shape, X_test.shape)\n",
    "#print (train_X_lda.shape, test_X_lda.shape)"
   ]
  },
  {
   "cell_type": "code",
   "execution_count": null,
   "metadata": {},
   "outputs": [],
   "source": []
  },
  {
   "cell_type": "code",
   "execution_count": null,
   "metadata": {},
   "outputs": [],
   "source": [
    "print (X_new)"
   ]
  },
  {
   "cell_type": "markdown",
   "metadata": {},
   "source": [
    "### Modeling: 训练模型以及选择合适的超参数 "
   ]
  },
  {
   "cell_type": "code",
   "execution_count": null,
   "metadata": {},
   "outputs": [],
   "source": [
    "from sklearn.linear_model import LogisticRegression\n",
    "from sklearn.metrics import f1_score\n",
    "from sklearn.model_selection import GridSearchCV\n",
    "from sklearn.model_selection import cross_val_score\n",
    "from sklearn.metrics import recall_score\n",
    "from sklearn.metrics import accuracy_score, precision_score\n",
    "# TODO： 利用逻辑回归来训练模型\n",
    "#       1. 评估方式： F1-score\n",
    "#       2. 超参数（hyperparater）的选择利用grid search https://scikit-learn.org/stable/modules/generated/sklearn.model_selection.GridSearchCV.html\n",
    "#       3. 打印出在测试数据中的最好的结果（precision, recall, f1-score, 需要分别打印出正负样本，以及综合的）\n",
    "#       请注意：做交叉验证时绝对不能用测试数据。 测试数据只能用来最后的”一次性“检验。\n",
    "#       逻辑回归的使用方法请参考：http://scikit-learn.org/stable/modules/generated/sklearn.linear_model.LogisticRegression.html\n",
    "#       对于逻辑回归，经常调整的超参数为： C"
   ]
  },
  {
   "cell_type": "code",
   "execution_count": null,
   "metadata": {},
   "outputs": [],
   "source": [
    "# 不用网格搜索\n",
    "logistic_model = LogisticRegression()\n",
    "logistic_model.fit(X_train, y_train)\n",
    "y_predict = logistic_model.predict(X_test)\n",
    "# 测试集上得分\n",
    "print(logistic_model.score(X_test, y_test))\n",
    "f1_scr_logistic = f1_score(y_test, y_predict, average='binary')\n",
    "print(f1_scr_logistic)"
   ]
  },
  {
   "cell_type": "code",
   "execution_count": null,
   "metadata": {},
   "outputs": [],
   "source": [
    "# logisic regression by gridsearch\n",
    "params = {'penalty': ['l1', 'l2'], 'C': [0.01, 0.1, 2.0, 3.], 'max_iter': [5, 10, 200, 50]}\n",
    "gs_lr = GridSearchCV(LogisticRegression(), param_grid=params, cv=5)\n",
    "gs_lr.fit(X_train, y_train)\n",
    "\n",
    "# 打印搜索到的最佳参数及得分\n",
    "print(gs_lr.best_params_)\n",
    "print(gs_lr.best_score_)\n",
    "\n",
    "best_parameters = gs_lr.best_estimator_.get_params()\n",
    "best_model = LogisticRegression(penalty=best_parameters['penalty'], \n",
    "                                C=best_parameters['C'], \n",
    "                                max_iter=best_parameters['max_iter'])\n",
    "best_model.fit(X_train, y_train)\n",
    "\n",
    "# 测试集上得分\n",
    "print(best_model.score(X_test, y_test))\n",
    "pred = best_model.predict(X_test)\n",
    "f1_scr_cv = f1_score(y_test, pred, average='binary')\n",
    "print(f1_scr_cv)"
   ]
  },
  {
   "cell_type": "code",
   "execution_count": null,
   "metadata": {},
   "outputs": [],
   "source": []
  },
  {
   "cell_type": "code",
   "execution_count": null,
   "metadata": {},
   "outputs": [],
   "source": []
  },
  {
   "cell_type": "code",
   "execution_count": null,
   "metadata": {},
   "outputs": [],
   "source": []
  },
  {
   "cell_type": "code",
   "execution_count": null,
   "metadata": {},
   "outputs": [],
   "source": []
  }
 ],
 "metadata": {
  "anaconda-cloud": {},
  "kernelspec": {
   "display_name": "Python 3",
   "language": "python",
   "name": "python3"
  },
  "language_info": {
   "codemirror_mode": {
    "name": "ipython",
    "version": 3
   },
   "file_extension": ".py",
   "mimetype": "text/x-python",
   "name": "python",
   "nbconvert_exporter": "python",
   "pygments_lexer": "ipython3",
   "version": "3.7.1"
  }
 },
 "nbformat": 4,
 "nbformat_minor": 2
}
